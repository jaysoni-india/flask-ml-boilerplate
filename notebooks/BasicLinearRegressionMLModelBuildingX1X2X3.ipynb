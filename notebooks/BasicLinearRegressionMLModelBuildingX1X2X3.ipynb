{
 "cells": [
  {
   "cell_type": "markdown",
   "id": "dd582fa6",
   "metadata": {},
   "source": [
    "# Step 1: Data CSV Generation (optional):\n",
    "## Generate Random Data for Linear equation (y = (x1 + x2 )*x3 )\n",
    "#### Note: pick any linear equation of "
   ]
  },
  {
   "cell_type": "code",
   "execution_count": 1,
   "id": "ace8c7f7",
   "metadata": {},
   "outputs": [],
   "source": [
    "import numpy as np\n",
    "import pandas as pd\n",
    "from random import randint"
   ]
  },
  {
   "cell_type": "code",
   "execution_count": 2,
   "id": "bc45a6a2",
   "metadata": {},
   "outputs": [],
   "source": [
    "\n",
    "# Generate 10000 records on equation (x1+x2)*x3 = y\n",
    "TOTAL_RECORDS = 10000\n",
    "MAX_RANDOM_RANGE = 100\n",
    "\n",
    "RANDOM_DICT = {\n",
    "    'low': 0,\n",
    "    'high': MAX_RANDOM_RANGE,\n",
    "    'size': TOTAL_RECORDS\n",
    "}\n",
    "# Generate a random pandas dataframe with two columns X1, X2, X3\n",
    "df = pd.DataFrame({'X1': np.random.randint(**RANDOM_DICT),\n",
    "                   'X2': np.random.randint(**RANDOM_DICT),\n",
    "                   'X3': np.random.randint(**RANDOM_DICT)\n",
    "                  })\n",
    "df['y'] = (df['X1'] + df['X2']) * df['X3']\n"
   ]
  },
  {
   "cell_type": "code",
   "execution_count": 3,
   "id": "17a9a39d",
   "metadata": {},
   "outputs": [
    {
     "data": {
      "text/html": [
       "<div>\n",
       "<style scoped>\n",
       "    .dataframe tbody tr th:only-of-type {\n",
       "        vertical-align: middle;\n",
       "    }\n",
       "\n",
       "    .dataframe tbody tr th {\n",
       "        vertical-align: top;\n",
       "    }\n",
       "\n",
       "    .dataframe thead th {\n",
       "        text-align: right;\n",
       "    }\n",
       "</style>\n",
       "<table border=\"1\" class=\"dataframe\">\n",
       "  <thead>\n",
       "    <tr style=\"text-align: right;\">\n",
       "      <th></th>\n",
       "      <th>X1</th>\n",
       "      <th>X2</th>\n",
       "      <th>X3</th>\n",
       "      <th>y</th>\n",
       "    </tr>\n",
       "  </thead>\n",
       "  <tbody>\n",
       "    <tr>\n",
       "      <th>0</th>\n",
       "      <td>50</td>\n",
       "      <td>17</td>\n",
       "      <td>34</td>\n",
       "      <td>2278</td>\n",
       "    </tr>\n",
       "    <tr>\n",
       "      <th>1</th>\n",
       "      <td>9</td>\n",
       "      <td>84</td>\n",
       "      <td>96</td>\n",
       "      <td>8928</td>\n",
       "    </tr>\n",
       "    <tr>\n",
       "      <th>2</th>\n",
       "      <td>4</td>\n",
       "      <td>76</td>\n",
       "      <td>24</td>\n",
       "      <td>1920</td>\n",
       "    </tr>\n",
       "    <tr>\n",
       "      <th>3</th>\n",
       "      <td>30</td>\n",
       "      <td>72</td>\n",
       "      <td>55</td>\n",
       "      <td>5610</td>\n",
       "    </tr>\n",
       "    <tr>\n",
       "      <th>4</th>\n",
       "      <td>38</td>\n",
       "      <td>86</td>\n",
       "      <td>78</td>\n",
       "      <td>9672</td>\n",
       "    </tr>\n",
       "  </tbody>\n",
       "</table>\n",
       "</div>"
      ],
      "text/plain": [
       "   X1  X2  X3     y\n",
       "0  50  17  34  2278\n",
       "1   9  84  96  8928\n",
       "2   4  76  24  1920\n",
       "3  30  72  55  5610\n",
       "4  38  86  78  9672"
      ]
     },
     "execution_count": 3,
     "metadata": {},
     "output_type": "execute_result"
    }
   ],
   "source": [
    "df.head()"
   ]
  },
  {
   "cell_type": "code",
   "execution_count": 4,
   "id": "16b09ab9",
   "metadata": {},
   "outputs": [],
   "source": [
    "CSV_FILE_NAME = \"y_x1_x2_x3_equation_linear_data.csv\"\n",
    "df.to_csv(CSV_FILE_NAME, index=False) "
   ]
  },
  {
   "cell_type": "markdown",
   "id": "8cafeba0",
   "metadata": {},
   "source": [
    "# Step 2: import CSV and Basic EDA"
   ]
  },
  {
   "cell_type": "code",
   "execution_count": 5,
   "id": "faa4b74a",
   "metadata": {},
   "outputs": [
    {
     "data": {
      "text/html": [
       "<div>\n",
       "<style scoped>\n",
       "    .dataframe tbody tr th:only-of-type {\n",
       "        vertical-align: middle;\n",
       "    }\n",
       "\n",
       "    .dataframe tbody tr th {\n",
       "        vertical-align: top;\n",
       "    }\n",
       "\n",
       "    .dataframe thead th {\n",
       "        text-align: right;\n",
       "    }\n",
       "</style>\n",
       "<table border=\"1\" class=\"dataframe\">\n",
       "  <thead>\n",
       "    <tr style=\"text-align: right;\">\n",
       "      <th></th>\n",
       "      <th>X1</th>\n",
       "      <th>X2</th>\n",
       "      <th>X3</th>\n",
       "      <th>y</th>\n",
       "    </tr>\n",
       "  </thead>\n",
       "  <tbody>\n",
       "    <tr>\n",
       "      <th>9995</th>\n",
       "      <td>11</td>\n",
       "      <td>20</td>\n",
       "      <td>31</td>\n",
       "      <td>961</td>\n",
       "    </tr>\n",
       "    <tr>\n",
       "      <th>9996</th>\n",
       "      <td>87</td>\n",
       "      <td>46</td>\n",
       "      <td>33</td>\n",
       "      <td>4389</td>\n",
       "    </tr>\n",
       "    <tr>\n",
       "      <th>9997</th>\n",
       "      <td>20</td>\n",
       "      <td>55</td>\n",
       "      <td>0</td>\n",
       "      <td>0</td>\n",
       "    </tr>\n",
       "    <tr>\n",
       "      <th>9998</th>\n",
       "      <td>95</td>\n",
       "      <td>5</td>\n",
       "      <td>17</td>\n",
       "      <td>1700</td>\n",
       "    </tr>\n",
       "    <tr>\n",
       "      <th>9999</th>\n",
       "      <td>7</td>\n",
       "      <td>97</td>\n",
       "      <td>88</td>\n",
       "      <td>9152</td>\n",
       "    </tr>\n",
       "  </tbody>\n",
       "</table>\n",
       "</div>"
      ],
      "text/plain": [
       "      X1  X2  X3     y\n",
       "9995  11  20  31   961\n",
       "9996  87  46  33  4389\n",
       "9997  20  55   0     0\n",
       "9998  95   5  17  1700\n",
       "9999   7  97  88  9152"
      ]
     },
     "execution_count": 5,
     "metadata": {},
     "output_type": "execute_result"
    }
   ],
   "source": [
    "df = pd.read_csv(CSV_FILE_NAME)\n",
    "df.tail()"
   ]
  },
  {
   "cell_type": "code",
   "execution_count": 6,
   "id": "40573fc2",
   "metadata": {},
   "outputs": [
    {
     "name": "stdout",
     "output_type": "stream",
     "text": [
      "(10000, 4)\n"
     ]
    },
    {
     "data": {
      "text/html": [
       "<div>\n",
       "<style scoped>\n",
       "    .dataframe tbody tr th:only-of-type {\n",
       "        vertical-align: middle;\n",
       "    }\n",
       "\n",
       "    .dataframe tbody tr th {\n",
       "        vertical-align: top;\n",
       "    }\n",
       "\n",
       "    .dataframe thead th {\n",
       "        text-align: right;\n",
       "    }\n",
       "</style>\n",
       "<table border=\"1\" class=\"dataframe\">\n",
       "  <thead>\n",
       "    <tr style=\"text-align: right;\">\n",
       "      <th></th>\n",
       "      <th>X1</th>\n",
       "      <th>X2</th>\n",
       "      <th>X3</th>\n",
       "      <th>y</th>\n",
       "    </tr>\n",
       "  </thead>\n",
       "  <tbody>\n",
       "    <tr>\n",
       "      <th>count</th>\n",
       "      <td>10000.000000</td>\n",
       "      <td>10000.00000</td>\n",
       "      <td>10000.000000</td>\n",
       "      <td>10000.000000</td>\n",
       "    </tr>\n",
       "    <tr>\n",
       "      <th>mean</th>\n",
       "      <td>49.882500</td>\n",
       "      <td>49.53800</td>\n",
       "      <td>49.853200</td>\n",
       "      <td>4939.118200</td>\n",
       "    </tr>\n",
       "    <tr>\n",
       "      <th>std</th>\n",
       "      <td>28.731986</td>\n",
       "      <td>28.60394</td>\n",
       "      <td>28.613398</td>\n",
       "      <td>3660.314079</td>\n",
       "    </tr>\n",
       "    <tr>\n",
       "      <th>min</th>\n",
       "      <td>0.000000</td>\n",
       "      <td>0.00000</td>\n",
       "      <td>0.000000</td>\n",
       "      <td>0.000000</td>\n",
       "    </tr>\n",
       "    <tr>\n",
       "      <th>25%</th>\n",
       "      <td>25.000000</td>\n",
       "      <td>25.00000</td>\n",
       "      <td>25.000000</td>\n",
       "      <td>1944.000000</td>\n",
       "    </tr>\n",
       "    <tr>\n",
       "      <th>50%</th>\n",
       "      <td>50.000000</td>\n",
       "      <td>49.00000</td>\n",
       "      <td>50.000000</td>\n",
       "      <td>4230.000000</td>\n",
       "    </tr>\n",
       "    <tr>\n",
       "      <th>75%</th>\n",
       "      <td>75.000000</td>\n",
       "      <td>74.00000</td>\n",
       "      <td>75.000000</td>\n",
       "      <td>7252.500000</td>\n",
       "    </tr>\n",
       "    <tr>\n",
       "      <th>max</th>\n",
       "      <td>99.000000</td>\n",
       "      <td>99.00000</td>\n",
       "      <td>99.000000</td>\n",
       "      <td>18715.000000</td>\n",
       "    </tr>\n",
       "  </tbody>\n",
       "</table>\n",
       "</div>"
      ],
      "text/plain": [
       "                 X1           X2            X3             y\n",
       "count  10000.000000  10000.00000  10000.000000  10000.000000\n",
       "mean      49.882500     49.53800     49.853200   4939.118200\n",
       "std       28.731986     28.60394     28.613398   3660.314079\n",
       "min        0.000000      0.00000      0.000000      0.000000\n",
       "25%       25.000000     25.00000     25.000000   1944.000000\n",
       "50%       50.000000     49.00000     50.000000   4230.000000\n",
       "75%       75.000000     74.00000     75.000000   7252.500000\n",
       "max       99.000000     99.00000     99.000000  18715.000000"
      ]
     },
     "execution_count": 6,
     "metadata": {},
     "output_type": "execute_result"
    }
   ],
   "source": [
    "print(df.shape)\n",
    "df.describe()"
   ]
  },
  {
   "cell_type": "code",
   "execution_count": 7,
   "id": "c6675af5",
   "metadata": {},
   "outputs": [
    {
     "name": "stdout",
     "output_type": "stream",
     "text": [
      "<class 'pandas.core.frame.DataFrame'>\n",
      "RangeIndex: 10000 entries, 0 to 9999\n",
      "Data columns (total 4 columns):\n",
      " #   Column  Non-Null Count  Dtype\n",
      "---  ------  --------------  -----\n",
      " 0   X1      10000 non-null  int64\n",
      " 1   X2      10000 non-null  int64\n",
      " 2   X3      10000 non-null  int64\n",
      " 3   y       10000 non-null  int64\n",
      "dtypes: int64(4)\n",
      "memory usage: 312.6 KB\n"
     ]
    }
   ],
   "source": [
    "df.info()"
   ]
  },
  {
   "cell_type": "code",
   "execution_count": 8,
   "id": "6bae0199",
   "metadata": {},
   "outputs": [
    {
     "data": {
      "image/png": "[encoded data removed]",
      "text/plain": [
       "<Figure size 432x288 with 1 Axes>"
      ]
     },
     "metadata": {
      "needs_background": "light"
     },
     "output_type": "display_data"
    },
    {
     "data": {
      "image/png": "[encoded data removed]",
      "text/plain": [
       "<Figure size 432x288 with 1 Axes>"
      ]
     },
     "metadata": {
      "needs_background": "light"
     },
     "output_type": "display_data"
    },
    {
     "data": {
      "image/png": "[encoded data removed]",
      "text/plain": [
       "<Figure size 432x288 with 1 Axes>"
      ]
     },
     "metadata": {
      "needs_background": "light"
     },
     "output_type": "display_data"
    }
   ],
   "source": [
    "# visualize data\n",
    "import matplotlib.pyplot as plt\n",
    "import seaborn as sns\n",
    "\n",
    "# plot a histogram\n",
    "sns.histplot(data=df, x='y', kde=True)\n",
    "plt.show()\n",
    "\n",
    "# plot a scatter plot\n",
    "sns.scatterplot(data=df, x='X1', y='y')\n",
    "plt.show()\n",
    "\n",
    "# plot a box plot\n",
    "sns.boxplot(data=df, y='y')\n",
    "plt.show()\n"
   ]
  },
  {
   "cell_type": "markdown",
   "id": "5194efb0",
   "metadata": {},
   "source": [
    "# Step 3: Basic Linear Regression Model building\n"
   ]
  },
  {
   "cell_type": "code",
   "execution_count": 9,
   "id": "2e240b84",
   "metadata": {},
   "outputs": [],
   "source": [
    "from sklearn.model_selection import train_test_split\n",
    "from sklearn.linear_model import LinearRegression\n",
    "from sklearn.metrics import r2_score, mean_squared_error, mean_absolute_error\n",
    "\n",
    "\n",
    "# split into train and test sets\n",
    "X = df[['X1', 'X2', 'X3']]\n",
    "y = df['y']\n",
    "X_train, X_test, y_train, y_test = train_test_split(X, y, test_size=0.2, random_state=42)\n"
   ]
  },
  {
   "cell_type": "code",
   "execution_count": 10,
   "id": "ffbb1446",
   "metadata": {},
   "outputs": [
    {
     "data": {
      "text/plain": [
       "(8000, 3)"
      ]
     },
     "execution_count": 10,
     "metadata": {},
     "output_type": "execute_result"
    }
   ],
   "source": [
    "X_train.shape"
   ]
  },
  {
   "cell_type": "code",
   "execution_count": 11,
   "id": "88378dea",
   "metadata": {},
   "outputs": [
    {
     "data": {
      "text/plain": [
       "(8000,)"
      ]
     },
     "execution_count": 11,
     "metadata": {},
     "output_type": "execute_result"
    }
   ],
   "source": [
    "y_train.shape"
   ]
  },
  {
   "cell_type": "code",
   "execution_count": 12,
   "id": "719549b6",
   "metadata": {},
   "outputs": [],
   "source": [
    "# fit the linear regression model on the training set\n",
    "model = LinearRegression().fit(X_train, y_train)\n",
    "\n",
    "# predict on the test set\n",
    "y_pred = model.predict(X_test)"
   ]
  },
  {
   "cell_type": "markdown",
   "id": "050cb553",
   "metadata": {},
   "source": [
    "# Step:4 Model Evaluation"
   ]
  },
  {
   "cell_type": "code",
   "execution_count": 13,
   "id": "020b78f0",
   "metadata": {},
   "outputs": [
    {
     "name": "stdout",
     "output_type": "stream",
     "text": [
      "R-squared: 0.895409736530269\n",
      "MSE: 1389058.6266662935\n",
      "RMSE: 1178.5833134175512\n",
      "MAE: 833.8219016988688\n",
      "R-squared (Acccuracy in %): 89.5409736530269\n"
     ]
    }
   ],
   "source": [
    "# calculate evaluation metrics\n",
    "R2 = r2_score(y_test, y_pred)\n",
    "MSE = mean_squared_error(y_test, y_pred)\n",
    "RMSE = np.sqrt(MSE)\n",
    "MAE = mean_absolute_error(y_test, y_pred)\n",
    "R2_percentage = R2 * 100\n",
    "\n",
    "print(\"R-squared:\", R2)\n",
    "print(\"MSE:\", MSE)\n",
    "print(\"RMSE:\", RMSE)\n",
    "print(\"MAE:\", MAE)\n",
    "print(\"R-squared (Acccuracy in %):\", R2_percentage)"
   ]
  },
  {
   "cell_type": "markdown",
   "id": "42c63060",
   "metadata": {},
   "source": [
    "# Step 4: Export Model to be used in Flask"
   ]
  },
  {
   "cell_type": "code",
   "execution_count": 14,
   "id": "cf3afcf7",
   "metadata": {},
   "outputs": [],
   "source": [
    "import pickle\n",
    "# Save the model to a pickle file\n",
    "with open('y_x1_x2_x3_model.pkl', 'wb') as file:\n",
    "    pickle.dump(model, file)"
   ]
  },
  {
   "cell_type": "markdown",
   "id": "ac9e8e19",
   "metadata": {},
   "source": [
    "# Step 5: Predict Y for new values sample for one record"
   ]
  },
  {
   "cell_type": "code",
   "execution_count": 15,
   "id": "a8a80c00",
   "metadata": {},
   "outputs": [],
   "source": [
    "import pickle\n",
    "\n",
    "# Load the trained model from the pickle file\n",
    "with open('y_x1_x2_x3_model.pkl', 'rb') as file:\n",
    "    model = pickle.load(file)\n"
   ]
  },
  {
   "cell_type": "code",
   "execution_count": 16,
   "id": "be394ca1",
   "metadata": {},
   "outputs": [],
   "source": [
    "# Supress Warnings\n",
    "\n",
    "import warnings\n",
    "warnings.filterwarnings('ignore')"
   ]
  },
  {
   "cell_type": "code",
   "execution_count": null,
   "id": "187983c8",
   "metadata": {},
   "outputs": [],
   "source": []
  },
  {
   "cell_type": "code",
   "execution_count": 17,
   "id": "882206b0",
   "metadata": {},
   "outputs": [
    {
     "data": {
      "text/html": [
       "<div>\n",
       "<style scoped>\n",
       "    .dataframe tbody tr th:only-of-type {\n",
       "        vertical-align: middle;\n",
       "    }\n",
       "\n",
       "    .dataframe tbody tr th {\n",
       "        vertical-align: top;\n",
       "    }\n",
       "\n",
       "    .dataframe thead th {\n",
       "        text-align: right;\n",
       "    }\n",
       "</style>\n",
       "<table border=\"1\" class=\"dataframe\">\n",
       "  <thead>\n",
       "    <tr style=\"text-align: right;\">\n",
       "      <th></th>\n",
       "      <th>x1</th>\n",
       "      <th>x2</th>\n",
       "      <th>x3</th>\n",
       "      <th>y_actual</th>\n",
       "      <th>y_predicted</th>\n",
       "    </tr>\n",
       "  </thead>\n",
       "  <tbody>\n",
       "    <tr>\n",
       "      <th>0</th>\n",
       "      <td>44</td>\n",
       "      <td>21</td>\n",
       "      <td>1</td>\n",
       "      <td>65</td>\n",
       "      <td>-1655.756460</td>\n",
       "    </tr>\n",
       "    <tr>\n",
       "      <th>1</th>\n",
       "      <td>23</td>\n",
       "      <td>76</td>\n",
       "      <td>86</td>\n",
       "      <td>8514</td>\n",
       "      <td>8516.540331</td>\n",
       "    </tr>\n",
       "    <tr>\n",
       "      <th>2</th>\n",
       "      <td>61</td>\n",
       "      <td>1</td>\n",
       "      <td>75</td>\n",
       "      <td>4650</td>\n",
       "      <td>5578.497834</td>\n",
       "    </tr>\n",
       "    <tr>\n",
       "      <th>3</th>\n",
       "      <td>66</td>\n",
       "      <td>6</td>\n",
       "      <td>96</td>\n",
       "      <td>6912</td>\n",
       "      <td>8174.803638</td>\n",
       "    </tr>\n",
       "    <tr>\n",
       "      <th>4</th>\n",
       "      <td>8</td>\n",
       "      <td>12</td>\n",
       "      <td>73</td>\n",
       "      <td>1460</td>\n",
       "      <td>3260.428305</td>\n",
       "    </tr>\n",
       "    <tr>\n",
       "      <th>...</th>\n",
       "      <td>...</td>\n",
       "      <td>...</td>\n",
       "      <td>...</td>\n",
       "      <td>...</td>\n",
       "      <td>...</td>\n",
       "    </tr>\n",
       "    <tr>\n",
       "      <th>95</th>\n",
       "      <td>60</td>\n",
       "      <td>27</td>\n",
       "      <td>82</td>\n",
       "      <td>7134</td>\n",
       "      <td>7527.910773</td>\n",
       "    </tr>\n",
       "    <tr>\n",
       "      <th>96</th>\n",
       "      <td>36</td>\n",
       "      <td>26</td>\n",
       "      <td>42</td>\n",
       "      <td>2604</td>\n",
       "      <td>2280.226726</td>\n",
       "    </tr>\n",
       "    <tr>\n",
       "      <th>97</th>\n",
       "      <td>97</td>\n",
       "      <td>50</td>\n",
       "      <td>71</td>\n",
       "      <td>10437</td>\n",
       "      <td>9446.020765</td>\n",
       "    </tr>\n",
       "    <tr>\n",
       "      <th>98</th>\n",
       "      <td>22</td>\n",
       "      <td>55</td>\n",
       "      <td>96</td>\n",
       "      <td>7392</td>\n",
       "      <td>8411.991268</td>\n",
       "    </tr>\n",
       "    <tr>\n",
       "      <th>99</th>\n",
       "      <td>69</td>\n",
       "      <td>22</td>\n",
       "      <td>31</td>\n",
       "      <td>2821</td>\n",
       "      <td>2645.079991</td>\n",
       "    </tr>\n",
       "  </tbody>\n",
       "</table>\n",
       "<p>100 rows × 5 columns</p>\n",
       "</div>"
      ],
      "text/plain": [
       "    x1  x2  x3  y_actual  y_predicted\n",
       "0   44  21   1        65 -1655.756460\n",
       "1   23  76  86      8514  8516.540331\n",
       "2   61   1  75      4650  5578.497834\n",
       "3   66   6  96      6912  8174.803638\n",
       "4    8  12  73      1460  3260.428305\n",
       "..  ..  ..  ..       ...          ...\n",
       "95  60  27  82      7134  7527.910773\n",
       "96  36  26  42      2604  2280.226726\n",
       "97  97  50  71     10437  9446.020765\n",
       "98  22  55  96      7392  8411.991268\n",
       "99  69  22  31      2821  2645.079991\n",
       "\n",
       "[100 rows x 5 columns]"
      ]
     },
     "execution_count": 17,
     "metadata": {},
     "output_type": "execute_result"
    }
   ],
   "source": [
    "output_array = []\n",
    "for _ in range(100):\n",
    "    x1 = randint(0, 100)\n",
    "    x2 = randint(0, 100)\n",
    "    x3 = randint(0, 100)    \n",
    "    # Should be value for y\n",
    "    y_actual = (x1+x2)*x3\n",
    "    output_array.append([x1, x2, x3, y_actual])\n",
    "\n",
    "df_output = pd.DataFrame(output_array, columns=['x1', 'x2', 'x3', 'y_actual'])\n",
    "\n",
    "new_data_point = df_output.iloc[:, 0:3]\n",
    "# Make a prediction using the trained model\n",
    "y_pred = model.predict(new_data_point)\n",
    "  \n",
    "df_output['y_predicted'] = y_pred\n",
    "\n",
    "df_output"
   ]
  },
  {
   "cell_type": "code",
   "execution_count": 18,
   "id": "16866c90",
   "metadata": {},
   "outputs": [
    {
     "data": {
      "text/plain": [
       "{'fit_intercept': True,\n",
       " 'normalize': 'deprecated',\n",
       " 'copy_X': True,\n",
       " 'n_jobs': None,\n",
       " 'positive': False,\n",
       " 'feature_names_in_': array(['X1', 'X2', 'X3'], dtype=object),\n",
       " 'n_features_in_': 3,\n",
       " 'coef_': array([50.36525553, 50.0665076 , 99.72128517]),\n",
       " 'rank_': 3,\n",
       " 'singular_': array([2580.53545952, 2565.70110889, 2538.08862843]),\n",
       " 'intercept_': -5022.945648017606}"
      ]
     },
     "execution_count": 18,
     "metadata": {},
     "output_type": "execute_result"
    }
   ],
   "source": [
    "with open('y_x1_x2_x3_model.pkl', 'rb') as file:\n",
    "    model = pickle.load(file)\n",
    "model.__dict__\n",
    "# print(f\"scikit-learn version: {sklearn_version}\")"
   ]
  }
 ],
 "metadata": {
  "kernelspec": {
   "display_name": "Python 3 (ipykernel)",
   "language": "python",
   "name": "python3"
  },
  "language_info": {
   "codemirror_mode": {
    "name": "ipython",
    "version": 3
   },
   "file_extension": ".py",
   "mimetype": "text/x-python",
   "name": "python",
   "nbconvert_exporter": "python",
   "pygments_lexer": "ipython3",
   "version": "3.9.7"
  }
 },
 "nbformat": 4,
 "nbformat_minor": 5
}
